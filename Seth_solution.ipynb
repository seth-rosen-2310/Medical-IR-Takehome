{
 "cells": [
  {
   "cell_type": "code",
   "execution_count": 1,
   "metadata": {},
   "outputs": [],
   "source": [
    "#load utility functions\n",
    "from llm_utils import *\n",
    "from text_utils import *"
   ]
  },
  {
   "cell_type": "code",
   "execution_count": 2,
   "metadata": {},
   "outputs": [],
   "source": [
    "#run extraction on pdf\n",
    "outs = run_extraction(\"SampleHealthRecord_Redacted.pdf\")"
   ]
  },
  {
   "cell_type": "code",
   "execution_count": 3,
   "metadata": {},
   "outputs": [],
   "source": [
    "#create a new document\n",
    "document = Document()\n",
    "\n",
    "#add the output sections as tables\n",
    "add_section(document, outs[1], \"Surgeries\")\n",
    "add_section(document, outs[2], \"Medications\")\n",
    "add_section(document, outs[0], \"Allergies\")\n",
    "\n",
    "#save the document\n",
    "document.save('srosen_parambil_output.docx')"
   ]
  },
  {
   "cell_type": "code",
   "execution_count": null,
   "metadata": {},
   "outputs": [],
   "source": []
  }
 ],
 "metadata": {
  "kernelspec": {
   "display_name": "parambil_env",
   "language": "python",
   "name": "python3"
  },
  "language_info": {
   "codemirror_mode": {
    "name": "ipython",
    "version": 3
   },
   "file_extension": ".py",
   "mimetype": "text/x-python",
   "name": "python",
   "nbconvert_exporter": "python",
   "pygments_lexer": "ipython3",
   "version": "3.12.4"
  }
 },
 "nbformat": 4,
 "nbformat_minor": 2
}
